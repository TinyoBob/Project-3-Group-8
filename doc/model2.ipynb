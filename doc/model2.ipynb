{
  "nbformat": 4,
  "nbformat_minor": 0,
  "metadata": {
    "colab": {
      "provenance": []
    },
    "kernelspec": {
      "name": "python3",
      "display_name": "Python 3"
    },
    "language_info": {
      "name": "python"
    }
  },
  "cells": [
    {
      "cell_type": "code",
      "execution_count": null,
      "metadata": {
        "id": "DvCgVnN0tNvL"
      },
      "outputs": [],
      "source": [
        "# [ADD WEAKLY SUPERVISED LEARNING FEATURE TO MODEL I]\n",
        "\n",
        "# write your code here...\n",
        "\n",
        "def model_II(image):\n",
        "    '''\n",
        "    This function should takes in the image of dimension 32*32*3 as input and returns a label prediction\n",
        "    '''\n",
        "    # write your code here...\n",
        "import numpy as np\n",
        "from sklearn.model_selection import train_test_split\n",
        "from tensorflow.keras import datasets, layers, models\n",
        "from tensorflow.keras.losses import SparseCategoricalCrossentropy\n",
        "\n",
        "\n",
        "baseline_imgs, baseline_labels = imgs[:1000], clean_labels[:1000]\n",
        "\n",
        "baseline_model.fit(baseline_imgs, baseline_labels, epochs=10)\n",
        "\n",
        "def compute_label_confidence(model, images, num_classes):\n",
        "    predictions = model.predict(images)\n",
        "\n",
        "    confidence = np.max(predictions, axis=1)\n",
        "\n",
        "    smoothed_confidence = np.clip(confidence, 0.05, 0.95)\n",
        "    return smoothed_confidence\n",
        "\n",
        "label_confidence = compute_label_confidence(baseline_model, imgs, num_classes=len(np.unique(clean_labels)))\n",
        "\n",
        "model = models.Sequential([\n",
        "    layers.Conv2D(32, (3, 3), activation='relu', input_shape=(32, 32, 3)),\n",
        "    layers.MaxPooling2D((2, 2)),\n",
        "    layers.Conv2D(64, (3, 3), activation='relu'),\n",
        "    layers.MaxPooling2D((2, 2)),\n",
        "    layers.Conv2D(64, (3, 3), activation='relu'),\n",
        "    layers.Flatten(),\n",
        "    layers.Dense(64, activation='relu'),\n",
        "    layers.Dense(10)\n",
        "])\n",
        "\n",
        "X_train, X_test, y_train, y_test = train_test_split(imgs[10000:50000], noisy_labels, test_size=0.3, random_state=42)\n",
        "\n",
        "model_ii = models.clone_model(baseline_model)\n",
        "model_ii.compile(optimizer='adam', loss=SparseCategoricalCrossentropy(from_logits=True), metrics=['accuracy'])\n",
        "model_ii.fit(X_train, y_train, sample_weight=label_confidence, epochs=10, validation_data=(X_test, y_test))\n",
        "\n",
        "score = model_ii.evaluate(X_test, y_test)\n",
        "\n"
      ]
    }
  ]
}